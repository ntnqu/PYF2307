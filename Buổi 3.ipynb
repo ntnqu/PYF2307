{
 "cells": [
  {
   "cell_type": "code",
   "execution_count": 1,
   "id": "17c5acee-61d8-4eef-94d0-7acdd31592b6",
   "metadata": {},
   "outputs": [
    {
     "name": "stdout",
     "output_type": "stream",
     "text": [
      "Xin chào\n"
     ]
    }
   ],
   "source": [
    "print(\"Xin chào\")\n",
    "#in chữ Xin chào"
   ]
  },
  {
   "cell_type": "code",
   "execution_count": 2,
   "id": "4bb78005-24cf-4f30-9ca1-cfb3e6beefce",
   "metadata": {},
   "outputs": [
    {
     "name": "stdout",
     "output_type": "stream",
     "text": [
      "Lớp PYF\n",
      "Hello\n"
     ]
    }
   ],
   "source": [
    "print(\"Lớp PYF\")\n",
    "print(\"Hello\")"
   ]
  },
  {
   "cell_type": "code",
   "execution_count": null,
   "id": "1491ed8b-682e-4ea5-8cc9-412f1f5ea998",
   "metadata": {},
   "outputs": [],
   "source": []
  }
 ],
 "metadata": {
  "kernelspec": {
   "display_name": "Python 3 (ipykernel)",
   "language": "python",
   "name": "python3"
  },
  "language_info": {
   "codemirror_mode": {
    "name": "ipython",
    "version": 3
   },
   "file_extension": ".py",
   "mimetype": "text/x-python",
   "name": "python",
   "nbconvert_exporter": "python",
   "pygments_lexer": "ipython3",
   "version": "3.11.4"
  }
 },
 "nbformat": 4,
 "nbformat_minor": 5
}

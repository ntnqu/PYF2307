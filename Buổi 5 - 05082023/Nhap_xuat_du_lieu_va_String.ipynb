{
 "cells": [
  {
   "cell_type": "markdown",
   "id": "7ac14915",
   "metadata": {},
   "source": [
    "# Nhập xuất dữ liệu và String\n",
    "## Cách nhập xuất dữ liệu"
   ]
  },
  {
   "cell_type": "markdown",
   "id": "0f202ae8",
   "metadata": {},
   "source": [
    "### Xuất dữ liệu ra màn hình\n",
    "Để in các nội dung mà chúng ta mong muốn ra màn hình, ta sử dụng lệnh print()"
   ]
  },
  {
   "cell_type": "code",
   "execution_count": 1,
   "id": "a6d3f260",
   "metadata": {},
   "outputs": [
    {
     "name": "stdout",
     "output_type": "stream",
     "text": [
      "python is very easy\n"
     ]
    }
   ],
   "source": [
    "# Ví dụ: In ra nội dung \"python is very easy\"\n",
    "print('python is very easy')"
   ]
  },
  {
   "cell_type": "markdown",
   "id": "7733925a",
   "metadata": {},
   "source": [
    "### Các cách custom với lệnh print"
   ]
  },
  {
   "cell_type": "markdown",
   "id": "292ab570",
   "metadata": {},
   "source": [
    "Để in một nội dung kèm theo giá trị của biến, ta có các cách sau:"
   ]
  },
  {
   "cell_type": "code",
   "execution_count": 4,
   "id": "20ff912c",
   "metadata": {},
   "outputs": [],
   "source": [
    "food_1 = \"chocolate\"\n",
    "food_2 = \"sandwich\"\n",
    "# I love chocolate and I hate sandwich\n",
    "# \"I love\" --food_1-- \"and I hate\" -food_2--"
   ]
  },
  {
   "cell_type": "code",
   "execution_count": 3,
   "id": "6407a448",
   "metadata": {},
   "outputs": [
    {
     "name": "stdout",
     "output_type": "stream",
     "text": [
      "I love chocolate and I hate sandwich\n"
     ]
    }
   ],
   "source": [
    "# In trực tiếp\n",
    "print('I love chocolate and I hate sandwich')"
   ]
  },
  {
   "cell_type": "code",
   "execution_count": 6,
   "id": "27d098b8",
   "metadata": {},
   "outputs": [
    {
     "name": "stdout",
     "output_type": "stream",
     "text": [
      "I love chocolate and I hate sandwich\n"
     ]
    }
   ],
   "source": [
    "# In bằng cách ghép các nội dung với nhau\n",
    "print(\"I love\",food_1, \"and I hate\", food_2)"
   ]
  },
  {
   "cell_type": "code",
   "execution_count": 7,
   "id": "92300618-9fe5-4887-8b18-a7c9ce32f0b8",
   "metadata": {},
   "outputs": [
    {
     "name": "stdout",
     "output_type": "stream",
     "text": [
      "I love chocolate and I hate sandwich\n"
     ]
    }
   ],
   "source": [
    "print(\"I love\",food_1, \"and I hate\", food_2, sep = \" \")"
   ]
  },
  {
   "cell_type": "code",
   "execution_count": 8,
   "id": "555ba437-3e94-47ff-ae74-dc065712ea46",
   "metadata": {},
   "outputs": [
    {
     "name": "stdout",
     "output_type": "stream",
     "text": [
      "I love+chocolate+and I hate+sandwich\n"
     ]
    }
   ],
   "source": [
    "print(\"I love\",food_1, \"and I hate\", food_2, sep = \"+\")"
   ]
  },
  {
   "cell_type": "code",
   "execution_count": 9,
   "id": "29695e7c-0e03-42fd-91e2-961f61406138",
   "metadata": {},
   "outputs": [
    {
     "name": "stdout",
     "output_type": "stream",
     "text": [
      "I lovechocolateand I hatesandwich\n"
     ]
    }
   ],
   "source": [
    "print(\"I love\",food_1, \"and I hate\", food_2, sep = \"\")"
   ]
  },
  {
   "cell_type": "code",
   "execution_count": 10,
   "id": "717666f2",
   "metadata": {},
   "outputs": [
    {
     "name": "stdout",
     "output_type": "stream",
     "text": [
      "I love chocolate and I hate sandwich\n"
     ]
    }
   ],
   "source": [
    "# Sử dụng String Format\n",
    "print(f\"I love {food_1} and I hate {food_2}\")"
   ]
  },
  {
   "cell_type": "code",
   "execution_count": 12,
   "id": "c7276e05",
   "metadata": {},
   "outputs": [
    {
     "name": "stdout",
     "output_type": "stream",
     "text": [
      "I love \n",
      "chocolate\n",
      " and I hate\n",
      "sandwich\n"
     ]
    }
   ],
   "source": [
    "# Sử dụng nhiều lệnh print\n",
    "print(\"I love \")\n",
    "print(food_1)\n",
    "print(\" and I hate\")\n",
    "print(food_2)"
   ]
  },
  {
   "cell_type": "code",
   "execution_count": 13,
   "id": "e9ce6c88-d136-497d-9101-6f088e520417",
   "metadata": {},
   "outputs": [
    {
     "name": "stdout",
     "output_type": "stream",
     "text": [
      "I love chocolate\n",
      " and I hate\n",
      "sandwich\n"
     ]
    }
   ],
   "source": [
    "print(\"I love \", end = \"\")\n",
    "print(food_1)\n",
    "print(\" and I hate\")\n",
    "print(food_2)"
   ]
  },
  {
   "cell_type": "code",
   "execution_count": 15,
   "id": "21c99071-7b53-4e1f-ab45-3cab6b692290",
   "metadata": {},
   "outputs": [
    {
     "name": "stdout",
     "output_type": "stream",
     "text": [
      "I love chocolate and I hatesandwich\n"
     ]
    }
   ],
   "source": [
    "print(\"I love \", end = \"\")\n",
    "print(food_1, end = \"\")\n",
    "print(\" and I hate\", end = \"\")\n",
    "print(food_2)"
   ]
  },
  {
   "cell_type": "markdown",
   "id": "e10788fb",
   "metadata": {},
   "source": [
    "### Nhập dữ liệu\n",
    "Để nhập dữ liệu vào chương trình python, chúng ta sử dụng hàm input()"
   ]
  },
  {
   "cell_type": "code",
   "execution_count": 16,
   "id": "b8b8afd3",
   "metadata": {},
   "outputs": [
    {
     "name": "stdin",
     "output_type": "stream",
     "text": [
      "Please enter your name:  QUYNH\n"
     ]
    },
    {
     "name": "stdout",
     "output_type": "stream",
     "text": [
      "QUYNH\n"
     ]
    }
   ],
   "source": [
    "name = input(\"Please enter your name: \")\n",
    "print(name)"
   ]
  },
  {
   "cell_type": "code",
   "execution_count": 17,
   "id": "89060e70-59f1-4055-92eb-cf9865af56e4",
   "metadata": {},
   "outputs": [
    {
     "name": "stdin",
     "output_type": "stream",
     "text": [
      "Please enter your name:  Quynh\n"
     ]
    },
    {
     "name": "stdout",
     "output_type": "stream",
     "text": [
      "Quynh\n",
      "<class 'str'>\n"
     ]
    }
   ],
   "source": [
    "name = input(\"Please enter your name: \")\n",
    "print(name)\n",
    "print(type(name))"
   ]
  },
  {
   "cell_type": "code",
   "execution_count": 18,
   "id": "95ac5f92-661f-42f3-a482-667f05f17a1a",
   "metadata": {},
   "outputs": [
    {
     "name": "stdin",
     "output_type": "stream",
     "text": [
      "Please enter your name:  12\n"
     ]
    },
    {
     "name": "stdout",
     "output_type": "stream",
     "text": [
      "12\n",
      "<class 'str'>\n"
     ]
    }
   ],
   "source": [
    "name = input(\"Please enter your name: \")\n",
    "print(name)\n",
    "print(type(name))"
   ]
  },
  {
   "cell_type": "code",
   "execution_count": 20,
   "id": "d392c03e-7ef9-462b-bf1d-49e58e2ba57d",
   "metadata": {},
   "outputs": [
    {
     "name": "stdin",
     "output_type": "stream",
     "text": [
      "Please enter a month:  6\n"
     ]
    },
    {
     "name": "stdout",
     "output_type": "stream",
     "text": [
      "6\n",
      "<class 'int'>\n"
     ]
    }
   ],
   "source": [
    "month = int(input(\"Please enter a month: \")) # type casting\n",
    "print(month)\n",
    "print(type(month))"
   ]
  },
  {
   "cell_type": "markdown",
   "id": "337f9c15",
   "metadata": {},
   "source": [
    "#### Thực hành: Viết chương trình nhập vào chiều dài và chiều rộng của hình chữ nhật, sau đó in ra chu vi và diện tích của hình chữ nhật đó"
   ]
  },
  {
   "cell_type": "code",
   "execution_count": 33,
   "id": "add68103",
   "metadata": {},
   "outputs": [
    {
     "name": "stdin",
     "output_type": "stream",
     "text": [
      "nhap chieu dai cua hinh 100\n",
      "nhap chieu rong cua hinh 35\n"
     ]
    }
   ],
   "source": [
    "# Nhập các kích thước của hình chữ nhật\n",
    "d = int(input(\"nhap chieu dai cua hinh\"))\n",
    "r = int(input(\"nhap chieu rong cua hinh\"))"
   ]
  },
  {
   "cell_type": "code",
   "execution_count": 35,
   "id": "7a1cd73e",
   "metadata": {},
   "outputs": [],
   "source": [
    "# Tính toán chu vi, diện tích\n",
    "P = (d + r) * 2\n",
    "S = d * r"
   ]
  },
  {
   "cell_type": "code",
   "execution_count": 36,
   "id": "d0adf735",
   "metadata": {},
   "outputs": [
    {
     "name": "stdout",
     "output_type": "stream",
     "text": [
      "chu vi hcn 270 , dien tich hcn 3500\n"
     ]
    }
   ],
   "source": [
    "# In kết quả ra màn hình bằng 3 cách\n",
    "print (f\"chu vi hcn {P} , dien tich hcn {S}\")"
   ]
  },
  {
   "cell_type": "code",
   "execution_count": 37,
   "id": "30aec7ca-324e-4dad-a87f-7635b463306f",
   "metadata": {},
   "outputs": [
    {
     "name": "stdout",
     "output_type": "stream",
     "text": [
      "Chu vi hcn: 270\n",
      "Dien tich hcn 3500\n"
     ]
    }
   ],
   "source": [
    "print(\"Chu vi hcn:\", P)\n",
    "print(\"Dien tich hcn\", S)"
   ]
  },
  {
   "cell_type": "code",
   "execution_count": 41,
   "id": "59b98f16-85f7-46ba-8859-f6cc467066c2",
   "metadata": {},
   "outputs": [
    {
     "name": "stdout",
     "output_type": "stream",
     "text": [
      "Chu vi hcn:270, Dien tich hcn:3500\n"
     ]
    }
   ],
   "source": [
    "print(\"Chu vi hcn:\", end =\"\")\n",
    "print(P, end =\"\")\n",
    "print(\", Dien tich hcn:\", end =\"\")\n",
    "print(S)"
   ]
  },
  {
   "cell_type": "markdown",
   "id": "fb54cb77",
   "metadata": {},
   "source": [
    "#### Thực hành: Viết chương trình nhập vào số đo cạnh và mã màu của tam giác đều, sau đó sử dụng turtle để vẽ ra hình tam giác có số đo và màu tương ứng"
   ]
  },
  {
   "cell_type": "code",
   "execution_count": null,
   "id": "7583b308",
   "metadata": {},
   "outputs": [],
   "source": []
  },
  {
   "cell_type": "markdown",
   "id": "fa7cb208",
   "metadata": {},
   "source": [
    "## Cú pháp import"
   ]
  },
  {
   "cell_type": "markdown",
   "id": "ab2a2ea5",
   "metadata": {},
   "source": [
    "Để sử dụng một module từ bên ngoài, chúng ta sẽ sử dụng từ khóa import. Sau đây là ví dụ về một số cách import phổ biến."
   ]
  },
  {
   "cell_type": "markdown",
   "id": "bd6de377",
   "metadata": {},
   "source": [
    "### Random một giá trị ngẫu nhiên"
   ]
  },
  {
   "cell_type": "code",
   "execution_count": null,
   "id": "ce5547f5",
   "metadata": {},
   "outputs": [],
   "source": []
  },
  {
   "cell_type": "markdown",
   "id": "dfa93dc0",
   "metadata": {},
   "source": [
    "### Thực hiện các phép toán số học"
   ]
  },
  {
   "cell_type": "code",
   "execution_count": 8,
   "id": "4f06f722",
   "metadata": {},
   "outputs": [],
   "source": [
    "# import toàn bộ module"
   ]
  },
  {
   "cell_type": "code",
   "execution_count": null,
   "id": "6b9e471b",
   "metadata": {},
   "outputs": [],
   "source": [
    "# import một phần trong module"
   ]
  },
  {
   "cell_type": "markdown",
   "id": "391969e7",
   "metadata": {},
   "source": [
    "## Xử lý String trong python"
   ]
  },
  {
   "cell_type": "markdown",
   "id": "ab461669",
   "metadata": {},
   "source": [
    "### String là gì?\n",
    "String là một chuỗi gồm các ký tự Unicode"
   ]
  },
  {
   "cell_type": "markdown",
   "id": "94a27b90",
   "metadata": {},
   "source": [
    "### Khởi tạo một string"
   ]
  },
  {
   "cell_type": "code",
   "execution_count": 42,
   "id": "b14f4fcc",
   "metadata": {},
   "outputs": [],
   "source": [
    "# one-line string\n",
    "course_name = \"Python Fundamental\""
   ]
  },
  {
   "cell_type": "code",
   "execution_count": 43,
   "id": "9cc506a7",
   "metadata": {},
   "outputs": [
    {
     "name": "stdout",
     "output_type": "stream",
     "text": [
      "SIMPLE CALCULATOR APPLICATION\n",
      "This application is developed to help user calculate simple formula\n",
      "Main features:\n",
      "1. Addtion\n",
      "2. Subtraction\n",
      "3. Multiplication\n",
      "4. Division\n"
     ]
    }
   ],
   "source": [
    "# multi-line string\n",
    "instruction = \"\"\"SIMPLE CALCULATOR APPLICATION\n",
    "This application is developed to help user calculate simple formula\n",
    "Main features:\n",
    "1. Addtion\n",
    "2. Subtraction\n",
    "3. Multiplication\n",
    "4. Division\"\"\"\n",
    "print(instruction)"
   ]
  },
  {
   "cell_type": "markdown",
   "id": "8f4270fd",
   "metadata": {},
   "source": [
    "### Các thao tác phổ biến với string"
   ]
  },
  {
   "cell_type": "code",
   "execution_count": 44,
   "id": "c825f890",
   "metadata": {},
   "outputs": [
    {
     "name": "stdout",
     "output_type": "stream",
     "text": [
      "18\n"
     ]
    }
   ],
   "source": [
    "# Kiểm tra độ dài string\n",
    "content = \"Python Fundamental\"\n",
    "print(len(content))"
   ]
  },
  {
   "cell_type": "code",
   "execution_count": 45,
   "id": "6de96621",
   "metadata": {},
   "outputs": [
    {
     "name": "stdout",
     "output_type": "stream",
     "text": [
      "X\n"
     ]
    }
   ],
   "source": [
    "# Truy xuất ký tự bằng cơ chế indexing và reverse indexing\n",
    "content = \"XOXXOOX\"\n",
    "print(content[3]) # indexing"
   ]
  },
  {
   "cell_type": "code",
   "execution_count": 2,
   "id": "126a58f4-ce43-41bb-b94e-9352e469e01e",
   "metadata": {},
   "outputs": [
    {
     "name": "stdout",
     "output_type": "stream",
     "text": [
      "O\n"
     ]
    }
   ],
   "source": [
    "content = \"XOXXOOX\"\n",
    "print(content[-2]) # reverse indexing"
   ]
  },
  {
   "cell_type": "markdown",
   "id": "a4f949d9",
   "metadata": {},
   "source": [
    "#### Thực hành: Viết chương trình nhập vào một chuỗi bất kỳ, sau đó in ra ký tự đầu tiên và ký tự cuối cùng của chuỗi đó."
   ]
  },
  {
   "cell_type": "code",
   "execution_count": 6,
   "id": "14833f18",
   "metadata": {},
   "outputs": [
    {
     "name": "stdout",
     "output_type": "stream",
     "text": [
      "L\n",
      "n\n"
     ]
    }
   ],
   "source": [
    "content = \"Lop Hoc Python\"\n",
    "print(content[0])\n",
    "print(content[-1])"
   ]
  },
  {
   "cell_type": "code",
   "execution_count": 5,
   "id": "3bcf95f4-8ccb-481f-8710-a205bb2781d6",
   "metadata": {},
   "outputs": [
    {
     "name": "stdin",
     "output_type": "stream",
     "text": [
      "Please enter a string:  xin chao\n"
     ]
    },
    {
     "name": "stdout",
     "output_type": "stream",
     "text": [
      "First character: x\n",
      "Last character: o\n"
     ]
    }
   ],
   "source": [
    "content = input(\"Please enter a string: \")\n",
    "print(f\"First character: {content[0]}\")\n",
    "print(f\"Last character: {content[-1]}\")"
   ]
  },
  {
   "cell_type": "code",
   "execution_count": 1,
   "id": "9aad2f16",
   "metadata": {},
   "outputs": [
    {
     "name": "stdout",
     "output_type": "stream",
     "text": [
      "+7\n"
     ]
    }
   ],
   "source": [
    "# Cắt string theo index\n",
    "content = \"1,Long,Python Fundamental,3-5-7,19:30,21:30,+7\"\n",
    "print(content[-2:]) # cắt string từ index -2 đến cuối string"
   ]
  },
  {
   "cell_type": "code",
   "execution_count": 4,
   "id": "9aa9893a-bef4-4464-a15c-69f7c7fa312a",
   "metadata": {},
   "outputs": [
    {
     "name": "stdout",
     "output_type": "stream",
     "text": [
      "1,Long,Python Fundamenta\n"
     ]
    }
   ],
   "source": [
    "content = \"1,Long,Python Fundamental,3-5-7,19:30,21:30,+7\"\n",
    "print(content[:24])"
   ]
  },
  {
   "cell_type": "code",
   "execution_count": 5,
   "id": "79323901-6375-41c4-98d4-402963ba0e1b",
   "metadata": {},
   "outputs": [
    {
     "name": "stdout",
     "output_type": "stream",
     "text": [
      "1,Long,Python Fundamental\n"
     ]
    }
   ],
   "source": [
    "content = \"1,Long,Python Fundamental,3-5-7,19:30,21:30,+7\"\n",
    "print(content[:25]) # cắt string từ đầu string đến trước index 25"
   ]
  },
  {
   "cell_type": "code",
   "execution_count": 6,
   "id": "a1f0aaa1-b5db-4fd8-9437-80f17976f9b7",
   "metadata": {},
   "outputs": [
    {
     "name": "stdout",
     "output_type": "stream",
     "text": [
      "Python Fundamental\n"
     ]
    }
   ],
   "source": [
    "content = \"1,Long,Python Fundamental,3-5-7,19:30,21:30,+7\"\n",
    "print(content[7:25]) # cắt string từ đầu string đến trước index 25"
   ]
  },
  {
   "cell_type": "code",
   "execution_count": 9,
   "id": "0555c1b3-a3cc-4587-9236-7b6f3d34211e",
   "metadata": {},
   "outputs": [
    {
     "name": "stdout",
     "output_type": "stream",
     "text": [
      "Pto udmna\n"
     ]
    }
   ],
   "source": [
    "content = \"1,Long,Python Fundamental,3-5-7,19:30,21:30,+7\"\n",
    "print(content[7:25:2]) # cắt string từ đầu string đến trước index 25, bước nhảy 2 ký tự"
   ]
  },
  {
   "cell_type": "code",
   "execution_count": 8,
   "id": "6c32592e-310e-4f9e-b68a-d1139d3238a1",
   "metadata": {},
   "outputs": [
    {
     "name": "stdout",
     "output_type": "stream",
     "text": [
      "7+,03:12,03:91,7-5-3,latnemadnuF nohtyP,gnoL,1\n"
     ]
    }
   ],
   "source": [
    "# đảo ngược string\n",
    "content = \"1,Long,Python Fundamental,3-5-7,19:30,21:30,+7\"\n",
    "print(content[::-1])"
   ]
  },
  {
   "cell_type": "code",
   "execution_count": 10,
   "id": "6ec63f90",
   "metadata": {},
   "outputs": [
    {
     "name": "stdout",
     "output_type": "stream",
     "text": [
      "HelloWorld\n",
      "HelloHelloHello\n"
     ]
    }
   ],
   "source": [
    "# Ghép chuỗi và lặp chuỗi\n",
    "str1 = \"Hello\"\n",
    "str2 = \"World\"\n",
    "print(str1 + str2) # ghép chuỗi\n",
    "print(str1 * 3) # lặp chuỗi"
   ]
  },
  {
   "cell_type": "markdown",
   "id": "84c2dcb9",
   "metadata": {},
   "source": [
    "Thực hành: Xử lý và in ra các thông tin tương ứng trong chuỗi"
   ]
  },
  {
   "cell_type": "code",
   "execution_count": 35,
   "id": "cd71f135",
   "metadata": {},
   "outputs": [
    {
     "name": "stdout",
     "output_type": "stream",
     "text": [
      "Python Fundamental\n",
      "3-5-7\n",
      "19:30\n",
      "21:30\n",
      "+7\n"
     ]
    }
   ],
   "source": [
    "content = \"Python Fundamental,3-5-7,19:30,21:30,+7\"\n",
    "course_name = content[0:18]\n",
    "schedule = content[19:24]\n",
    "start_time = content[25:30]\n",
    "end_time = content[31:36]\n",
    "GMT = content[-2:]\n",
    "print(course_name)\n",
    "print(schedule)\n",
    "print(start_time)\n",
    "print(end_time)\n",
    "print(GMT)"
   ]
  },
  {
   "cell_type": "code",
   "execution_count": 14,
   "id": "56aea39b-db47-4af8-8660-08a14151611c",
   "metadata": {},
   "outputs": [
    {
     "name": "stdout",
     "output_type": "stream",
     "text": [
      "+7\n"
     ]
    }
   ],
   "source": [
    "content = \"Python Fundamental,3-5-7,19:30,21:30,+7\"\n",
    "GMT = content[-2:]\n",
    "print(GMT)"
   ]
  },
  {
   "cell_type": "code",
   "execution_count": 15,
   "id": "1df8db93-398b-40ad-b40a-2925293a2916",
   "metadata": {},
   "outputs": [
    {
     "name": "stdout",
     "output_type": "stream",
     "text": [
      "Python Fundamental\n"
     ]
    }
   ],
   "source": [
    "content = \"Python Fundamental,3-5-7,19:30,21:30,+7\"\n",
    "course_name = content[0:18]\n",
    "print(course_name)"
   ]
  },
  {
   "cell_type": "code",
   "execution_count": 18,
   "id": "172ece74-c4f0-4237-a2e9-b1fecb578c5b",
   "metadata": {},
   "outputs": [
    {
     "name": "stdout",
     "output_type": "stream",
     "text": [
      "Tên khoá học: Python Fundamental\n",
      "Tên môn học: 3-5-7\n",
      "Thời gian bắt đầu:  19:30\n",
      "Thời gian kết thúc:  21:30\n",
      "Múi giờ:  +7\n"
     ]
    }
   ],
   "source": [
    "content = \"Python Fundamental,3-5-7,19:30,21:30,+7\"\n",
    "course_name = content[0:18]\n",
    "schedule = content[19:24]\n",
    "start_time = content[25:30]\n",
    "end_time = content[31:36]\n",
    "GMT = GMT = content[-2:]\n",
    "print(\"Tên khoá học:\", course_name)\n",
    "print(\"Tên môn học:\", schedule)\n",
    "print(\"Thời gian bắt đầu: \",start_time)\n",
    "print(\"Thời gian kết thúc: \",end_time)\n",
    "print(\"Múi giờ: \",GMT)"
   ]
  },
  {
   "cell_type": "markdown",
   "id": "7cbd965f",
   "metadata": {},
   "source": [
    "### Các hàm thông dụng khi xử lý string"
   ]
  },
  {
   "cell_type": "code",
   "execution_count": 19,
   "id": "eb5932a1",
   "metadata": {},
   "outputs": [
    {
     "name": "stdout",
     "output_type": "stream",
     "text": [
      "14\n"
     ]
    }
   ],
   "source": [
    "# len : đếm độ dài của string\n",
    "content= \"CodeGym Online\"\n",
    "print(len(content))"
   ]
  },
  {
   "cell_type": "code",
   "execution_count": 22,
   "id": "6bef6d33",
   "metadata": {},
   "outputs": [
    {
     "name": "stdout",
     "output_type": "stream",
     "text": [
      "2\n"
     ]
    }
   ],
   "source": [
    "# count  --> đến số lần xuất hiện của chuỗi con (sub string), ở đây chuỗi con là chữ e\n",
    "content= \"CodeGym Online\"\n",
    "print(content.count(\"e\"))"
   ]
  },
  {
   "cell_type": "code",
   "execution_count": 33,
   "id": "b76d6aff-385f-4340-ba7d-f72fa5cec98e",
   "metadata": {},
   "outputs": [
    {
     "name": "stdout",
     "output_type": "stream",
     "text": [
      "0\n"
     ]
    }
   ],
   "source": [
    "content= \"CodeGym Online Vietnam\"\n",
    "print(content.count(\"online\"))"
   ]
  },
  {
   "cell_type": "code",
   "execution_count": 34,
   "id": "7ab03402-6d61-40e9-9ee9-67e54753eeec",
   "metadata": {},
   "outputs": [
    {
     "name": "stdout",
     "output_type": "stream",
     "text": [
      "1\n"
     ]
    }
   ],
   "source": [
    "content= \"CodeGym Online Vietnam\"\n",
    "print(content.count(\"Online\"))"
   ]
  },
  {
   "cell_type": "code",
   "execution_count": 23,
   "id": "1582bbd8",
   "metadata": {},
   "outputs": [
    {
     "name": "stdout",
     "output_type": "stream",
     "text": [
      "NGUYEN THI NHU QUYNH\n"
     ]
    }
   ],
   "source": [
    "# upper, lower --> điều chỉnh cách viết hoa và thường\n",
    "# vd :Nguyen THI Nhu QUYnh\n",
    "name = \"Nguyen THI Nhu QUYnh\"\n",
    "print(name.upper()) # viết hoa toàn bộ chữ cái trong string"
   ]
  },
  {
   "cell_type": "code",
   "execution_count": 24,
   "id": "784cf243-1704-4c89-a1d0-80a7610598f0",
   "metadata": {},
   "outputs": [
    {
     "name": "stdout",
     "output_type": "stream",
     "text": [
      "nguyen thi nhu quynh\n"
     ]
    }
   ],
   "source": [
    "name = \"Nguyen THI Nhu QUYnh\"\n",
    "print(name.lower()) # viết thường toàn bộ chữ cái trong string"
   ]
  },
  {
   "cell_type": "code",
   "execution_count": 32,
   "id": "2a8afad6-a7be-482e-aa23-0c14003f7ea8",
   "metadata": {},
   "outputs": [
    {
     "name": "stdout",
     "output_type": "stream",
     "text": [
      "Nguyen thi nhu quynh\n"
     ]
    }
   ],
   "source": [
    "name = \"Nguyen THI Nhu QUYnh\"\n",
    "print(name.capitalize()) # viết hoa chữ cái đầu tiên trong string"
   ]
  },
  {
   "cell_type": "code",
   "execution_count": 27,
   "id": "0d08f708",
   "metadata": {},
   "outputs": [
    {
     "name": "stdout",
     "output_type": "stream",
     "text": [
      "Nguyen Thi Nhu Quynh                \n"
     ]
    }
   ],
   "source": [
    "# lstrip, rstrip, strip\n",
    "name = \"           Nguyen Thi Nhu Quynh                \" #trailing white spaces\n",
    "print(name.lstrip()) # xoá khoảng trắng phía bên trái"
   ]
  },
  {
   "cell_type": "code",
   "execution_count": 31,
   "id": "f9a4c3af-c229-4330-86da-da4b4afcf603",
   "metadata": {},
   "outputs": [
    {
     "name": "stdout",
     "output_type": "stream",
     "text": [
      "           Nguyen Thi Nhu Quynh\n"
     ]
    }
   ],
   "source": [
    "name = \"           Nguyen Thi Nhu Quynh                \" #trailing white spaces\n",
    "print(name.rstrip()) # xoá khoảng trắng phía bên phải"
   ]
  },
  {
   "cell_type": "code",
   "execution_count": 30,
   "id": "d169e0c9-addc-4ad8-be40-3c9b0825a764",
   "metadata": {},
   "outputs": [
    {
     "name": "stdout",
     "output_type": "stream",
     "text": [
      "Nguyen Thi Nhu Quynh\n"
     ]
    }
   ],
   "source": [
    "name = \"           Nguyen Thi Nhu Quynh                \" #trailing white spaces\n",
    "print(name.strip()) # xoá khoảng trắng phía bên phải và trái"
   ]
  },
  {
   "cell_type": "code",
   "execution_count": 29,
   "id": "62180d52",
   "metadata": {},
   "outputs": [
    {
     "name": "stdout",
     "output_type": "stream",
     "text": [
      "['Python Fundamental', '3-5-7', '19:30', '21:30', '+7']\n"
     ]
    }
   ],
   "source": [
    "# split cắt 1 string lớn thành nhiều string nhỏ theo 1 dấu hiệu nào đó\n",
    "content = \"Python Fundamental,3-5-7,19:30,21:30,+7\"\n",
    "print(content.split(\",\")) # cắt theo dấu ,"
   ]
  }
 ],
 "metadata": {
  "kernelspec": {
   "display_name": "Python 3 (ipykernel)",
   "language": "python",
   "name": "python3"
  },
  "language_info": {
   "codemirror_mode": {
    "name": "ipython",
    "version": 3
   },
   "file_extension": ".py",
   "mimetype": "text/x-python",
   "name": "python",
   "nbconvert_exporter": "python",
   "pygments_lexer": "ipython3",
   "version": "3.11.4"
  }
 },
 "nbformat": 4,
 "nbformat_minor": 5
}
